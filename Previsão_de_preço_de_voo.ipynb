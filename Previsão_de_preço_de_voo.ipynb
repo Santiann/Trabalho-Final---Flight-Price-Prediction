{
 "cells": [
  {
   "cell_type": "markdown",
   "metadata": {
    "colab_type": "text",
    "id": "view-in-github"
   },
   "source": [
    "<a href=\"https://colab.research.google.com/github/Santiann/Trabalho-Final-Previs-o-de-pre-o-de-voo/blob/main/Previs%C3%A3o_de_pre%C3%A7o_de_voo.ipynb\" target=\"_parent\"><img src=\"https://colab.research.google.com/assets/colab-badge.svg\" alt=\"Open In Colab\"/></a>"
   ]
  },
  {
   "cell_type": "code",
   "execution_count": null,
   "metadata": {
    "id": "Rzu7bUzv36rw"
   },
   "outputs": [],
   "source": [
    "# Importando todas as bibliotecas necessárias\n",
    "import os\n",
    "import warnings\n",
    "import numpy as np\n",
    "import pandas as pd\n",
    "import seaborn as sns\n",
    "import xgboost as xgb\n",
    "from sklearn.svm import SVR\n",
    "from sklearn import metrics\n",
    "import matplotlib.pyplot as plt\n",
    "from sklearn import linear_model\n",
    "from sklearn.linear_model import Ridge\n",
    "from sklearn.ensemble import BaggingRegressor\n",
    "from sklearn.preprocessing import LabelEncoder\n",
    "from sklearn.preprocessing import MinMaxScaler\n",
    "from sklearn.tree import DecisionTreeRegressor\n",
    "from sklearn.ensemble import ExtraTreesRegressor\n",
    "from sklearn.linear_model import LinearRegression\n",
    "from sklearn.neighbors import KNeighborsRegressor\n",
    "from sklearn.ensemble import RandomForestRegressor\n",
    "from sklearn.model_selection import train_test_split\n",
    "from sklearn.ensemble import GradientBoostingRegressor"
   ]
  },
  {
   "cell_type": "code",
   "execution_count": null,
   "metadata": {
    "colab": {
     "base_uri": "https://localhost:8080/"
    },
    "id": "gwyO4pWM93GI",
    "outputId": "5b9ec2ba-d983-4050-ab4f-ccbfdea4a3df"
   },
   "outputs": [],
   "source": [
    "# Define o dataset e o destino do download\n",
    "dataset = \"shubhambathwal/flight-price-prediction\"\n",
    "download_path = \"datasets/\"\n",
    "\n",
    "# Comando para baixar o dataset\n",
    "os.system(f\"kaggle datasets download -d {dataset} -p {download_path} --unzip\")\n",
    "\n",
    "print(f\"Dataset baixado e extraído em: {download_path}\")"
   ]
  },
  {
   "cell_type": "code",
   "execution_count": null,
   "metadata": {
    "id": "5rdUuo184WPn"
   },
   "outputs": [],
   "source": [
    "warnings.filterwarnings('ignore')\n",
    "pd.set_option('display.max_columns',None)\n",
    "for dirname, _, filenames in os.walk('/kaggle/input'):\n",
    "    for filename in filenames:\n",
    "        print(os.path.join(dirname, filename))"
   ]
  },
  {
   "cell_type": "code",
   "execution_count": null,
   "metadata": {
    "colab": {
     "base_uri": "https://localhost:8080/",
     "height": 206
    },
    "id": "jXU3-bBH4W5f",
    "outputId": "f39f61fa-d14b-46cf-c089-7f0848562125"
   },
   "outputs": [],
   "source": [
    "# Vamos ver o que há nos dados\n",
    "df=pd.read_csv('/content/datasets/Clean_Dataset.csv')\n",
    "df.head()"
   ]
  },
  {
   "cell_type": "code",
   "execution_count": null,
   "metadata": {
    "id": "wLUq6u4U4cBr"
   },
   "outputs": [],
   "source": [
    "# Eliminando a coluna inútil 'Unnamed: 0'\n",
    "df=df.drop('Unnamed: 0',axis=1)"
   ]
  },
  {
   "cell_type": "code",
   "execution_count": null,
   "metadata": {
    "colab": {
     "base_uri": "https://localhost:8080/"
    },
    "id": "3WcSLiiC6m2i",
    "outputId": "00d93292-a22d-41a0-fd3b-f7e2e2b259b8"
   },
   "outputs": [],
   "source": [
    "# Uma informação rápida sobre os dados\n",
    "df.info()"
   ]
  },
  {
   "cell_type": "code",
   "execution_count": null,
   "metadata": {
    "colab": {
     "base_uri": "https://localhost:8080/",
     "height": 300
    },
    "id": "6XCVF8Xb6oZ2",
    "outputId": "06ad1497-576c-4648-9579-d4fcdc14bc98"
   },
   "outputs": [],
   "source": [
    "# Descrição Estatística dos Dados\n",
    "df.describe()"
   ]
  },
  {
   "cell_type": "code",
   "execution_count": null,
   "metadata": {
    "colab": {
     "base_uri": "https://localhost:8080/"
    },
    "id": "L0puBrF36qby",
    "outputId": "989e9b27-e052-4486-c771-129ed1633404"
   },
   "outputs": [],
   "source": [
    "# Seleciona apenas colunas numéricas\n",
    "df_numeric = df.select_dtypes(include=['number'])\n",
    "\n",
    "# Calcula a correlação e transposta\n",
    "correlation_matrix = df_numeric.corr().T\n",
    "\n",
    "print(correlation_matrix)"
   ]
  },
  {
   "cell_type": "code",
   "execution_count": null,
   "metadata": {
    "colab": {
     "base_uri": "https://localhost:8080/"
    },
    "id": "bJ28cENv6wFd",
    "outputId": "450e4a30-be71-472d-88a5-3d81be6e97ef"
   },
   "outputs": [],
   "source": [
    "# Tamanho dos dados\n",
    "df.shape"
   ]
  },
  {
   "cell_type": "code",
   "execution_count": null,
   "metadata": {
    "colab": {
     "base_uri": "https://localhost:8080/",
     "height": 304
    },
    "id": "ieLmZtDs6_4M",
    "outputId": "2ff08404-5beb-490e-ab76-6b1c67bb662e"
   },
   "outputs": [],
   "source": [
    "df1=df.groupby(['flight','airline'],as_index=False).count()\n",
    "df1.airline.value_counts()"
   ]
  },
  {
   "cell_type": "code",
   "execution_count": null,
   "metadata": {
    "colab": {
     "base_uri": "https://localhost:8080/",
     "height": 607
    },
    "id": "XuEhzKYI7BkW",
    "outputId": "7fa56963-af7c-440a-d619-89e7d831ce14"
   },
   "outputs": [],
   "source": [
    "# Configurando o estilo e ajustando o tamanho da figura\n",
    "sns.set_style(\"whitegrid\")\n",
    "plt.figure(figsize=(10, 6))\n",
    "\n",
    "# Criando o gráfico com uma paleta mais vibrante\n",
    "palette = sns.color_palette(\"coolwarm\", len(df1['airline'].unique()))\n",
    "ax = sns.countplot(data=df1, x='airline', palette=palette, order=df1['airline'].value_counts().index)\n",
    "\n",
    "# Adicionando rótulos de valores nas barras\n",
    "for p in ax.patches:\n",
    "    ax.annotate(f'{p.get_height()}',\n",
    "                (p.get_x() + p.get_width() / 2., p.get_height()),\n",
    "                ha='center', va='center',\n",
    "                fontsize=12, color='black',\n",
    "                xytext=(0, 7), textcoords='offset points')\n",
    "\n",
    "# Melhorando os títulos e rótulos\n",
    "plt.title('Contagem de Voos por Companhia Aérea', fontsize=18, fontweight='bold')\n",
    "plt.xlabel('Companhia Aérea', fontsize=14)\n",
    "plt.ylabel('Número de Voos', fontsize=14)\n",
    "\n",
    "# Girando os rótulos no eixo X (caso necessário)\n",
    "plt.xticks(rotation=45, fontsize=12)\n",
    "plt.yticks(fontsize=12)\n",
    "\n",
    "# Exibindo o gráfico\n",
    "plt.tight_layout()\n",
    "plt.show()"
   ]
  },
  {
   "cell_type": "code",
   "execution_count": null,
   "metadata": {
    "colab": {
     "base_uri": "https://localhost:8080/",
     "height": 178
    },
    "id": "WzYdHxIs7DpZ",
    "outputId": "ec1902d6-44fa-4262-ad3b-4f7c7971bae7"
   },
   "outputs": [],
   "source": [
    "df2=df.groupby(['flight','airline','class'],as_index=False).count()\n",
    "df2['class'].value_counts()"
   ]
  },
  {
   "cell_type": "code",
   "execution_count": null,
   "metadata": {
    "colab": {
     "base_uri": "https://localhost:8080/",
     "height": 639
    },
    "id": "21BeyyzF7LEi",
    "outputId": "e5de6919-a2f8-4504-8fa7-d14f0fadc6b4"
   },
   "outputs": [],
   "source": [
    "# Configurando o tamanho da figura\n",
    "plt.figure(figsize=(8, 8))\n",
    "\n",
    "# Criando o gráfico de pizza com melhorias\n",
    "colors = sns.color_palette(\"cool\", len(df2['class'].unique()))  # Paleta de cores\n",
    "df2['class'].value_counts().plot(\n",
    "    kind='pie',\n",
    "    textprops={'color': 'black', 'fontsize': 12},\n",
    "    autopct='%1.1f%%',\n",
    "    startangle=140,\n",
    "    colors=colors,\n",
    "    wedgeprops={'edgecolor': 'black', 'linewidth': 1}\n",
    ")\n",
    "\n",
    "# Adicionando título\n",
    "plt.title('Distribuição das Classes de Voos', fontsize=16, fontweight='bold')\n",
    "\n",
    "# Melhorando a legenda\n",
    "plt.legend(\n",
    "    labels=df2['class'].value_counts().index,\n",
    "    title='Classes',\n",
    "    title_fontsize=12,\n",
    "    loc='upper right',\n",
    "    fontsize=12,\n",
    "    frameon=True,\n",
    "    bbox_to_anchor=(1.3, 0.8)\n",
    ")\n",
    "\n",
    "# Ajustando o layout para evitar sobreposição\n",
    "plt.tight_layout()\n",
    "\n",
    "# Exibindo o gráfico\n",
    "plt.show()"
   ]
  },
  {
   "cell_type": "code",
   "execution_count": null,
   "metadata": {
    "colab": {
     "base_uri": "https://localhost:8080/",
     "height": 607
    },
    "id": "aNjuNxgo7Nhu",
    "outputId": "1d0da1da-d744-4d49-9a65-7d060f7c0909"
   },
   "outputs": [],
   "source": [
    "# Calculando a média dos preços por companhia\n",
    "mean_prices = df.groupby('airline')['price'].mean().sort_values()\n",
    "\n",
    "# Configurando o estilo e tamanho do gráfico\n",
    "sns.set_style(\"whitegrid\")\n",
    "plt.figure(figsize=(16, 6))\n",
    "\n",
    "# Criando o gráfico de barras\n",
    "sns.barplot(\n",
    "    x=mean_prices.index,\n",
    "    y=mean_prices.values,\n",
    "    palette='coolwarm'\n",
    ")\n",
    "\n",
    "# Adicionando rótulos de valores acima das barras\n",
    "for i, val in enumerate(mean_prices.values):\n",
    "    plt.text(i, val + 10, f'${val:.2f}', ha='center', fontsize=12, color='black', weight='bold')\n",
    "\n",
    "# Ajustando títulos e rótulos\n",
    "plt.title('Média de Preços por Companhia Aérea', fontsize=18, fontweight='bold')\n",
    "plt.xlabel('Companhia Aérea', fontsize=14)\n",
    "plt.ylabel('Preço Médio da Passagem (em $)', fontsize=14)\n",
    "\n",
    "# Ajustando rótulos do eixo X\n",
    "plt.xticks(rotation=45, fontsize=12)\n",
    "\n",
    "# Ajustando espaçamento\n",
    "plt.tight_layout()\n",
    "\n",
    "# Exibindo o gráfico\n",
    "plt.show()"
   ]
  },
  {
   "cell_type": "code",
   "execution_count": null,
   "metadata": {
    "colab": {
     "base_uri": "https://localhost:8080/",
     "height": 607
    },
    "id": "ZRu8OYNV7QnS",
    "outputId": "02cae6d7-9270-4332-d0d5-3b14004fad05"
   },
   "outputs": [],
   "source": [
    "# Grafico para visualizar a concentração de preços por classes\n",
    "plt.figure(figsize=(12, 6))\n",
    "sns.stripplot(x='class', y='price', data=df, palette='viridis', size=7, jitter=True)\n",
    "\n",
    "# Melhorando o título e os rótulos\n",
    "plt.title('Distribuição de Preços por Classe', fontsize=18, fontweight='bold')\n",
    "plt.xlabel('Classe do Bilhete', fontsize=15, labelpad=10)\n",
    "plt.ylabel('Preço do Bilhete (USD)', fontsize=15, labelpad=10)\n",
    "\n",
    "# Ajustando o estilo\n",
    "plt.xticks(fontsize=12)\n",
    "plt.yticks(fontsize=12)\n",
    "plt.grid(axis='y', linestyle='--', alpha=0.7)\n",
    "\n",
    "# Mostrar o gráfico\n",
    "plt.tight_layout()\n",
    "plt.show()"
   ]
  },
  {
   "cell_type": "code",
   "execution_count": null,
   "metadata": {
    "colab": {
     "base_uri": "https://localhost:8080/",
     "height": 607
    },
    "id": "8LfFsME-7S0J",
    "outputId": "d0e1b3bf-5e02-468a-e12e-0752e636af7d"
   },
   "outputs": [],
   "source": [
    "# Grafico que mostra a quantidade de bilhetes vendidos por números de paradas,\n",
    "# dando a entender que passagens com pelo menos 1 paradas são mais caras do que viagens sem nenhuma parada.\n",
    "# Dando a entender que paradas são mais buscadas que viagens sem paradas.\n",
    "plt.figure(figsize=(12, 6))\n",
    "\n",
    "# Calculando as médias\n",
    "mean_prices = df.groupby('stops')['price'].mean().reset_index()\n",
    "\n",
    "# Gráfico de linha\n",
    "sns.lineplot(x='stops', y='price', data=mean_prices, marker='o', color='blue', linewidth=2.5)\n",
    "\n",
    "# Melhorando os rótulos e título\n",
    "plt.title('Preço Médio do Bilhete por Número de Paradas', fontsize=18, fontweight='bold')\n",
    "plt.xlabel('Número de Paradas', fontsize=15, labelpad=10)\n",
    "plt.ylabel('Preço Médio (USD)', fontsize=15, labelpad=10)\n",
    "plt.xticks(fontsize=12)\n",
    "plt.yticks(fontsize=12)\n",
    "plt.grid(axis='y', linestyle='--', alpha=0.7)\n",
    "\n",
    "plt.tight_layout()\n",
    "plt.show()\n"
   ]
  },
  {
   "cell_type": "code",
   "execution_count": null,
   "metadata": {
    "colab": {
     "base_uri": "https://localhost:8080/",
     "height": 761
    },
    "id": "4a4n44xZ7VGY",
    "outputId": "13723146-865b-4abd-ca09-164d152eded2"
   },
   "outputs": [],
   "source": [
    "plt.figure(figsize=(24, 10))\n",
    "\n",
    "# Gráfico para Horário de Partida vs Preço da Passagem\n",
    "plt.subplot(1, 2, 1)\n",
    "sns.violinplot(x='departure_time', y='price', data=df, inner=\"quartile\", scale=\"width\", palette=\"muted\")\n",
    "plt.title('Horário de Partida vs Preço da Passagem', fontsize=20)\n",
    "plt.xlabel('Horário de Partida', fontsize=15)\n",
    "plt.ylabel('Preço (R$)', fontsize=15)\n",
    "\n",
    "# Gráfico para Horário de Chegada vs Preço da Passagem\n",
    "plt.subplot(1, 2, 2)\n",
    "sns.violinplot(x='arrival_time', y='price', data=df, inner=\"quartile\", scale=\"width\", palette=\"husl\")\n",
    "plt.title('Horário de Chegada vs Preço da Passagem', fontsize=20)\n",
    "plt.xlabel('Horário de Chegada', fontsize=15)\n",
    "plt.ylabel('Preço (R$)', fontsize=15)\n",
    "\n",
    "plt.tight_layout()\n",
    "plt.show()"
   ]
  },
  {
   "cell_type": "code",
   "execution_count": null,
   "metadata": {
    "colab": {
     "base_uri": "https://localhost:8080/",
     "height": 810
    },
    "id": "bt6rC0A37W5k",
    "outputId": "fc29a22b-faf7-48fb-a427-1b569d133d6b"
   },
   "outputs": [],
   "source": [
    "plt.figure(figsize=(24,10))\n",
    "\n",
    "# Gráfico de violino para cidade de origem\n",
    "plt.subplot(1, 2, 1)\n",
    "sns.violinplot(x='source_city', y='price', data=df, inner=\"quartile\", scale=\"width\", palette='muted')\n",
    "plt.title('Cidade de Origem Vs Preço da Passagem', fontsize=20)\n",
    "plt.xlabel('Cidade de Origem', fontsize=15)\n",
    "plt.ylabel('Preço', fontsize=15)\n",
    "\n",
    "# Gráfico de violino para cidade de destino\n",
    "plt.subplot(1, 2, 2)\n",
    "sns.violinplot(x='destination_city', y='price', data=df, inner=\"quartile\", scale=\"width\", palette='husl')\n",
    "plt.title('Cidade de Destino Vs Preço da Passagem', fontsize=20)\n",
    "plt.xlabel('Cidade de Destino', fontsize=15)\n",
    "plt.ylabel('Preço', fontsize=15)\n",
    "\n",
    "plt.show()"
   ]
  },
  {
   "cell_type": "code",
   "execution_count": null,
   "metadata": {
    "colab": {
     "base_uri": "https://localhost:8080/",
     "height": 769
    },
    "id": "-fwszcSs7YuD",
    "outputId": "3f357e66-21cd-4e32-f596-8654d501dfe7"
   },
   "outputs": [],
   "source": [
    "# Estilo do fundo\n",
    "plt.style.use('dark_background')\n",
    "\n",
    "# Configurações da figura\n",
    "plt.figure(figsize=(20, 8))\n",
    "\n",
    "# Paleta de cores personalizada\n",
    "sns.set_palette(\"coolwarm\")\n",
    "\n",
    "# Gráfico com linhas suaves e transparência\n",
    "sns.lineplot(\n",
    "    data=df,\n",
    "    x='duration',\n",
    "    y='price',\n",
    "    hue='class',\n",
    "    palette='coolwarm',\n",
    "    linewidth=2,\n",
    "    alpha=0.8,\n",
    "    marker='o'  # Marcadores para diferenciar classes\n",
    ")\n",
    "\n",
    "# Melhorias no título e rótulos\n",
    "plt.title(\n",
    "    'Preço das Passagens vs Duração do Voo por Classe',\n",
    "    fontsize=22,\n",
    "    pad=20,  # Espaçamento\n",
    "    fontweight='bold'\n",
    ")\n",
    "plt.xlabel('Duração (horas)', fontsize=16, labelpad=15)\n",
    "plt.ylabel('Preço (R$)', fontsize=16, labelpad=15)\n",
    "\n",
    "# Adicionar grid discreto\n",
    "plt.grid(color='gray', linestyle='--', linewidth=0.5, alpha=0.7)\n",
    "\n",
    "# Ajustar posição da legenda\n",
    "plt.legend(title='Classe', fontsize=14, title_fontsize=16, loc='upper left')\n",
    "\n",
    "# Mostrar o gráfico\n",
    "plt.show()"
   ]
  },
  {
   "cell_type": "code",
   "execution_count": null,
   "metadata": {
    "colab": {
     "base_uri": "https://localhost:8080/",
     "height": 730
    },
    "id": "9xxPH-Od7aiC",
    "outputId": "7b7327f9-3def-4f39-d66e-08b94340e5ab"
   },
   "outputs": [],
   "source": [
    "# Estilo do fundo\n",
    "plt.style.use('dark_background')\n",
    "\n",
    "# Configurações da figura\n",
    "plt.figure(figsize=(20, 8))\n",
    "\n",
    "# Gráfico com linha mais visível e suavidade\n",
    "sns.lineplot(\n",
    "    data=df,\n",
    "    x='days_left',\n",
    "    y='price',\n",
    "    color='#51b6ff',  # Azul mais claro e agradável\n",
    "    linewidth=2,\n",
    "    alpha=0.8\n",
    ")\n",
    "\n",
    "# Melhorias no título e rótulos\n",
    "plt.title(\n",
    "    'Dias Restantes para Partida vs Preço das Passagens',\n",
    "    fontsize=22,\n",
    "    pad=20,  # Espaçamento\n",
    "    fontweight='bold'\n",
    ")\n",
    "plt.xlabel('Dias Restantes para a Partida', fontsize=16, labelpad=15)\n",
    "plt.ylabel('Preço (R$)', fontsize=16, labelpad=15)\n",
    "\n",
    "# Adicionar grade discreta\n",
    "plt.grid(color='gray', linestyle='--', linewidth=0.5, alpha=0.7)\n",
    "\n",
    "# Ajustar margens para melhor exibição\n",
    "plt.tight_layout()\n",
    "\n",
    "# Mostrar o gráfico\n",
    "plt.show()\n"
   ]
  },
  {
   "cell_type": "code",
   "execution_count": null,
   "metadata": {
    "colab": {
     "base_uri": "https://localhost:8080/",
     "height": 729
    },
    "id": "4f6kpUJ37h9Q",
    "outputId": "eb383b51-7c7e-4cd7-a642-f32f234a2e24"
   },
   "outputs": [],
   "source": [
    "# Configuração de estilo\n",
    "sns.set_style(\"whitegrid\")\n",
    "\n",
    "plt.figure(figsize=(20, 8))\n",
    "\n",
    "# Gráfico de linhas com paleta e legendas\n",
    "sns.lineplot(\n",
    "    data=df,\n",
    "    x='days_left',\n",
    "    y='price',\n",
    "    hue='airline',\n",
    "    palette='hls',\n",
    "    linewidth=2.5\n",
    ")\n",
    "\n",
    "# Títulos e legendas traduzidos\n",
    "plt.title('Dias Restantes para Partida vs Preço da Passagem por Companhia Aérea', fontsize=18, fontweight='bold')\n",
    "plt.xlabel('Dias Restantes para Partida', fontsize=15)\n",
    "plt.ylabel('Preço da Passagem (R$)', fontsize=15)\n",
    "\n",
    "# Ajustando a legenda\n",
    "plt.legend(title='Companhia Aérea', fontsize=12, title_fontsize=14, loc='upper right')\n",
    "\n",
    "# Ajuste dos limites e exibição\n",
    "plt.tight_layout()\n",
    "plt.show()\n"
   ]
  },
  {
   "cell_type": "code",
   "execution_count": null,
   "metadata": {
    "colab": {
     "base_uri": "https://localhost:8080/",
     "height": 363
    },
    "id": "XwSWD5Md7tBt",
    "outputId": "40ea6ca2-64e2-4ce5-e09e-2099ec8ef6bf"
   },
   "outputs": [],
   "source": [
    "# Primeiro agrupamento: Agrupa o DataFrame por 'flight', 'source_city', 'destination_city', 'airline' e 'class'.\n",
    "# O parâmetro 'as_index=False' garante que os grupos não sejam usados como índice no resultado.\n",
    "# Conta o número de ocorrências em cada grupo criado anteriormente.\n",
    "# Segundo agrupamento: Reagrupa os dados resultantes, agora por 'source_city' e 'destination_city'.\n",
    "# O parâmetro 'as_index=False' novamente impede que os grupos sejam usados como índice no resultado.\n",
    "# Conta o número de voos únicos ('flight') para cada combinação de 'source_city' e 'destination_city'.\n",
    "# Seleciona apenas as 10 primeiras linhas do resultado.\n",
    "# Quantos voos diferentes existem entre pares de cidades de origem e destino, considerando apenas as 10 primeiras combinações?\n",
    "\n",
    "df.groupby(['flight', 'source_city', 'destination_city', 'airline', 'class'], as_index=False).count().groupby(['source_city', 'destination_city'], as_index=False)['flight'].count().head(10)"
   ]
  },
  {
   "cell_type": "code",
   "execution_count": null,
   "metadata": {
    "colab": {
     "base_uri": "https://localhost:8080/",
     "height": 363
    },
    "id": "1UISL6Sr7y4G",
    "outputId": "78746f5b-43f3-45c3-ab2e-897493a6ddb0"
   },
   "outputs": [],
   "source": [
    "# Agrupa o DataFrame pelas colunas 'airline', 'source_city' e 'destination_city'.\n",
    "# O parâmetro 'as_index=False' garante que os grupos não sejam usados como índice no resultado.\n",
    "# Calcula a média dos preços ('price') para cada grupo definido anteriormente.\n",
    "# Seleciona as 10 primeiras linhas do resultado.\n",
    "# Qual é o preço médio dos voos por companhia aérea entre pares de cidades de origem e destino, considerando apenas as 10 primeiras combinações?\n",
    "\n",
    "df.groupby(['airline', 'source_city', 'destination_city'], as_index=False)['price'].mean().head(10)"
   ]
  },
  {
   "cell_type": "code",
   "execution_count": null,
   "metadata": {
    "id": "8bDqpjXf7z2T"
   },
   "outputs": [],
   "source": [
    "# Criando um arquivo de backup\n",
    "df_bk=df.copy()"
   ]
  },
  {
   "cell_type": "code",
   "execution_count": null,
   "metadata": {
    "id": "62KURQOU71uK"
   },
   "outputs": [],
   "source": [
    "# Convertendo os rótulos em um formato numérico usando o Label Encoder\n",
    "# Converte colunas categórias para númericas\n",
    "le=LabelEncoder()\n",
    "for col in df.columns:\n",
    "    if df[col].dtype=='object':\n",
    "        df[col]=le.fit_transform(df[col])"
   ]
  },
  {
   "cell_type": "code",
   "execution_count": null,
   "metadata": {
    "id": "jrNQL5Zi73El"
   },
   "outputs": [],
   "source": [
    "# armazenando as variáveis ​​dependentes em X e a variável independente em Y\n",
    "# Separação é essencial para o treinamento do modelo\n",
    "x=df.drop(['price'],axis=1)\n",
    "y=df['price']"
   ]
  },
  {
   "cell_type": "code",
   "execution_count": null,
   "metadata": {
    "colab": {
     "base_uri": "https://localhost:8080/"
    },
    "id": "mR9cbusP74p4",
    "outputId": "8e07615f-623b-4ed3-e8aa-0aadede06e07"
   },
   "outputs": [],
   "source": [
    "# Dividindo os dados em conjunto de treinamento e conjunto de teste\n",
    "# Separação feita para o treinamento do modelo e para seus eventuais testes\n",
    "# X = Df sem a coluna price\n",
    "# Y = Df com a coluna price\n",
    "\n",
    "x_train,x_test,y_train,y_test=train_test_split(x,y,test_size=0.30,random_state=42)\n",
    "x_train.shape,x_test.shape,y_train.shape,y_test.shape"
   ]
  },
  {
   "cell_type": "code",
   "execution_count": null,
   "metadata": {
    "id": "XvTxPegr76JS"
   },
   "outputs": [],
   "source": [
    "# Escalando os valores para converter os valores int para linguagens de máquina\n",
    "# Normalização dos dados, define que os dados deverão estar em uma escalada de 0 a 1, podendo ser 0.5 ou 0.6.\n",
    "\n",
    "mmscaler=MinMaxScaler(feature_range=(0,1))\n",
    "x_train=mmscaler.fit_transform(x_train)\n",
    "x_test=mmscaler.transform(x_test)\n",
    "x_train=pd.DataFrame(x_train)\n",
    "x_test=pd.DataFrame(x_test)"
   ]
  },
  {
   "cell_type": "code",
   "execution_count": null,
   "metadata": {
    "colab": {
     "base_uri": "https://localhost:8080/",
     "height": 53
    },
    "id": "V48Jo79j771b",
    "outputId": "b1282616-43dc-4f5a-9fa1-8a99b820699e"
   },
   "outputs": [],
   "source": [
    "# Cria um dataframe chamada Results\n",
    "\n",
    "a={'Model Name':[], 'Mean_Absolute_Error_MAE':[] ,'Adj_R_Square':[] ,'Root_Mean_Squared_Error_RMSE':[] ,'Mean_Absolute_Percentage_Error_MAPE':[] ,'Mean_Squared_Error_MSE':[] ,'Root_Mean_Squared_Log_Error_RMSLE':[] ,'R2_score':[]}\n",
    "Results=pd.DataFrame(a)\n",
    "Results.head()"
   ]
  },
  {
   "cell_type": "code",
   "execution_count": null,
   "metadata": {
    "colab": {
     "base_uri": "https://localhost:8080/"
    },
    "id": "c9C5xWZL79D5",
    "outputId": "ac98d5d9-358d-4bae-a4fb-76c65d2e98ca"
   },
   "outputs": [],
   "source": [
    "# Crie objetos de modelos de Regressão/Regressor com hiperparâmetros padrão\n",
    "# Modelos de regresão preveem valores contínuos, como o preço de passagens aéreas.\n",
    "# Modelos de classificação preveem como se um cliente vai comprar ou não uma passagem.\n",
    "modelmlg = LinearRegression()\n",
    "modeldcr = DecisionTreeRegressor()\n",
    "modelrfr = RandomForestRegressor()\n",
    "modelETR = ExtraTreesRegressor()\n",
    "\n",
    "# Matriz de avaliação para todos os algoritmos\n",
    "MM = [modelmlg, modeldcr, modelrfr, modelETR]\n",
    "\n",
    "for models in MM:\n",
    "\n",
    "    # Ajuste o modelo com dados de trem\n",
    "    models.fit(x_train, y_train)\n",
    "\n",
    "    # Preveja o modelo com dados de teste\n",
    "    y_pred = models.predict(x_test)\n",
    "\n",
    "    # Imprime o nome do modelo\n",
    "    print('Nome do Modelo: ', models)\n",
    "\n",
    "    # Métricas de avaliação para análise de regressão\n",
    "    print('Erro Absoluto Médio (MAE):', round(metrics.mean_absolute_error(y_test, y_pred),3))\n",
    "    # Mede a média dos erros absolutos entre os valores reais e os valores previstos pelo modelo.\n",
    "    # Exemplo: Se o preço real for R$ 300 e a previsão for R$ 320, o erro é R$ 20.\n",
    "    # Um MAE menor indica previsões mais precisas.\n",
    "\n",
    "    print('Erro Quadrático Médio (MSE):', round(metrics.mean_squared_error(y_test, y_pred),3))\n",
    "    # Mede a média dos quadrados das diferenças entre os valores reais e previstos. Como eleva ao quadrado os erros, penaliza erros maiores mais severamente.\n",
    "    # MSE baixo é desejado, mas é mais sensível a grandes discrepâncias.\n",
    "    # É útil para identificar se há previsões muito erradas.\n",
    "\n",
    "    print('Raiz do Erro Quadrático Médio (RMSE):', round(np.sqrt(metrics.mean_squared_error(y_test, y_pred)),3))\n",
    "    # É a raiz quadrada do MSE. Retorna o erro médio na mesma unidade da variável prevista (neste caso, o preço das passagens).\n",
    "    # Mais intuitivo que o MSE, pois mantém a unidade dos dados.\n",
    "    # Também penaliza erros grandes, mas é fácil de interpretar diretamente.\n",
    "\n",
    "    print('Coeficiente de Determinação (R²):', round(metrics.r2_score(y_test, y_pred),6))\n",
    "    # Mede a proporção da variabilidade dos dados explicada pelo modelo.\n",
    "    # Vai de 0 a 1, onde:\n",
    "      # 0 significa que o modelo não explica nada.\n",
    "      # 1 significa que o modelo explica toda a variabilidade dos dados.\n",
    "    # Um R² mais alto indica um modelo melhor para explicar os dados.\n",
    "    # No entanto, não considera o número de variáveis no modelo.\n",
    "\n",
    "    print('Raiz do Erro Quadrático Médio Logarítmico (RMSLE):', round(np.log(np.sqrt(metrics.mean_squared_error(y_test, y_pred))),3))\n",
    "    # Mede a diferença entre os logaritmos dos valores previstos e reais.\n",
    "    # É útil para problemas em que os valores têm uma ampla gama de variações e é mais tolerante a erros em valores altos.\n",
    "    # Um RMSLE menor indica previsões melhores.\n",
    "    # Penaliza mais erros relativos em valores baixos.\n",
    "\n",
    "    # Defina a função para calcular o MAPE - Erro Percentual Absoluto Médio\n",
    "    def MAPE (y_test, y_pred):\n",
    "        y_test, y_pred = np.array(y_test), np.array(y_pred)\n",
    "        return np.mean(np.abs((y_test - y_pred) / y_test)) * 100\n",
    "\n",
    "    # Avaliação do MAPE\n",
    "    result = MAPE(y_test, y_pred)\n",
    "    print('Erro Percentual Absoluto Médio (MAPE):', round(result, 2), '%')\n",
    "    # Mede a porcentagem média de erro em relação aos valores reais.\n",
    "    # É útil para avaliar o desempenho do modelo em termos percentuais, independentemente das unidades da variável.\n",
    "    # Um MAPE de 10% significa que, em média, as previsões estão 10% fora dos valores reais.\n",
    "\n",
    "    # Calcular valores de R quadrado ajustado\n",
    "    r_squared = round(metrics.r2_score(y_test, y_pred),6)\n",
    "    adjusted_r_squared = round(1 - (1-r_squared)*(len(y)-1)/(len(y)-x.shape[1]-1),6)\n",
    "    print('R² Ajustado: ', adjusted_r_squared)\n",
    "    # É uma versão ajustada do R² que penaliza o uso de muitas variáveis no modelo.\n",
    "    # Útil em datasets com muitas variáveis, pois evita que modelos complexos pareçam melhores do que são.\n",
    "\n",
    "    print('------------------------------------------------------------------------------------------------------------')\n",
    "\n",
    "    #-------------------------------------------------------------------------------------------\n",
    "    new_row = {'Model Name' : models,\n",
    "               'Mean_Absolute_Error_MAE' : metrics.mean_absolute_error(y_test, y_pred),\n",
    "               'Adj_R_Square' : adjusted_r_squared,\n",
    "               'Root_Mean_Squared_Error_RMSE' : np.sqrt(metrics.mean_squared_error(y_test, y_pred)),\n",
    "               'Mean_Absolute_Percentage_Error_MAPE' : result,\n",
    "               'Mean_Squared_Error_MSE' : metrics.mean_squared_error(y_test, y_pred),\n",
    "               'Root_Mean_Squared_Log_Error_RMSLE': np.log(np.sqrt(metrics.mean_squared_error(y_test, y_pred))),\n",
    "               'R2_score' : metrics.r2_score(y_test, y_pred)}\n",
    "\n",
    "    Results = pd.concat([Results, pd.DataFrame([new_row])], ignore_index=True)"
   ]
  },
  {
   "cell_type": "code",
   "execution_count": null,
   "metadata": {
    "colab": {
     "base_uri": "https://localhost:8080/"
    },
    "id": "Pdr6-78C8EXG",
    "outputId": "0f30a166-c0f2-4e1b-e856-1a41015dc46b"
   },
   "outputs": [],
   "source": [
    "# Exibir resultados finais\n",
    "print(Results)"
   ]
  },
  {
   "cell_type": "code",
   "execution_count": null,
   "metadata": {
    "colab": {
     "base_uri": "https://localhost:8080/",
     "height": 363
    },
    "id": "vW3g3kNJ8K4_",
    "outputId": "a4338eec-ae5c-49be-c3fc-b431a5b77f01"
   },
   "outputs": [],
   "source": [
    "models=['LinearRegression','DecisionTreeRegressor','RandomForestRegressor','KNeighborsRegressor','ExtraTreesRegressor','GradientBoostingRegressor','XGBRegressor','BaggingRegressor','Ridge Regression','Lasso Regression']\n",
    "result=pd.DataFrame({'Model_Name':models})\n",
    "result['Adj_R_Square']=Results['Adj_R_Square']\n",
    "result['Mean_Absolute_Error_MAE']=Results['Mean_Absolute_Error_MAE']\n",
    "result['Root_Mean_Squared_Error_RMSE']=Results['Root_Mean_Squared_Error_RMSE']\n",
    "result['Mean_Absolute_Percentage_Error_MAPE']=Results['Mean_Absolute_Percentage_Error_MAPE']\n",
    "result['Mean_Squared_Error_MSE']=Results['Mean_Squared_Error_MSE']\n",
    "result['Root_Mean_Squared_Log_Error_RMSLE']=Results['Root_Mean_Squared_Log_Error_RMSLE']\n",
    "result['R2_score']=Results['R2_score']\n",
    "result=result.sort_values(by='Adj_R_Square',ascending=False).reset_index(drop=True)\n",
    "result"
   ]
  },
  {
   "cell_type": "code",
   "execution_count": null,
   "metadata": {
    "id": "9IgitlfW8NfP"
   },
   "outputs": [],
   "source": [
    "# Treinando o modelo com\n",
    "modelETR.fit(x_train, y_train)\n",
    "\n",
    "# Preveja o modelo com dados de teste\n",
    "y_pred = modelETR.predict(x_test)"
   ]
  },
  {
   "cell_type": "code",
   "execution_count": null,
   "metadata": {
    "id": "SXn8CLnC8Ptv"
   },
   "outputs": [],
   "source": [
    "out=pd.DataFrame({'Price_actual':y_test,'Price_pred':y_pred})\n",
    "result=df_bk.merge(out,left_index=True,right_index=True)"
   ]
  },
  {
   "cell_type": "code",
   "execution_count": null,
   "metadata": {
    "colab": {
     "base_uri": "https://localhost:8080/",
     "height": 363
    },
    "id": "ZzBgoDkN8Q-v",
    "outputId": "958fe872-6270-4a9a-d266-597f10997769"
   },
   "outputs": [],
   "source": [
    "result.sample(10)"
   ]
  },
  {
   "cell_type": "code",
   "execution_count": null,
   "metadata": {
    "colab": {
     "base_uri": "https://localhost:8080/",
     "height": 732
    },
    "id": "obSsuDXo8SGH",
    "outputId": "5e677d23-1125-4b03-a509-789cb16fa1fd"
   },
   "outputs": [],
   "source": [
    "plt.figure(figsize=(20,8))\n",
    "sns.lineplot(data=result,x='days_left',y='Price_actual',color='red')\n",
    "sns.lineplot(data=result,x='days_left',y='Price_pred',color='blue')\n",
    "plt.title('Dias restantes para a partida versus preço real do bilhete e preço previsto do bilhete',fontsize=20)\n",
    "plt.legend(labels=['Price actual','Price predicted'],fontsize=19)\n",
    "plt.xlabel('Dias restantes para a partida',fontsize=15)\n",
    "plt.ylabel('Preço real e previsto',fontsize=15)\n",
    "plt.show()"
   ]
  },
  {
   "cell_type": "code",
   "execution_count": null,
   "metadata": {
    "colab": {
     "base_uri": "https://localhost:8080/",
     "height": 501
    },
    "id": "gchcC8Q88Tkj",
    "outputId": "f03db587-2163-48f1-ad3d-b8fabb9a72a8"
   },
   "outputs": [],
   "source": [
    "plt.figure(figsize=(10,5))  # Define o tamanho do gráfico\n",
    "sns.regplot(x='Price_actual', y='Price_pred', data=result, color='cyan')  # Cria um gráfico de regressão com os dados reais e previstos\n",
    "plt.title('Preço Real Vs Preço Previsto', fontsize=20)  # Adiciona um título ao gráfico\n",
    "plt.xlabel('Preço Real', fontsize=15)  # Define o rótulo do eixo X\n",
    "plt.ylabel('Preço Previsto', fontsize=15)  # Define o rótulo do eixo Y\n",
    "plt.show()  # Exibe o gráfico"
   ]
  }
 ],
 "metadata": {
  "colab": {
   "authorship_tag": "ABX9TyNNum5IMQuYRNxTTPNX8wVh",
   "include_colab_link": true,
   "provenance": []
  },
  "kernelspec": {
   "display_name": "Python 3",
   "name": "python3"
  },
  "language_info": {
   "name": "python"
  }
 },
 "nbformat": 4,
 "nbformat_minor": 0
}
